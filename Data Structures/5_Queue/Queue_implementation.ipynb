{
 "cells": [
  {
   "cell_type": "markdown",
   "id": "101eb563",
   "metadata": {},
   "source": [
    "# Queue implementation from scratch by deque() and Python list[]"
   ]
  },
  {
   "cell_type": "code",
   "execution_count": 2,
   "id": "a799fa70",
   "metadata": {},
   "outputs": [],
   "source": [
    "from collections import deque\n",
    "\n",
    "'''Queue implementation by deque example'''\n",
    "#Queue data structure are also called double end list\n",
    "class Queue:\n",
    "    def __init__(self):\n",
    "        self.buffer = deque()\n",
    "        \n",
    "    def enqueue(self, val):\n",
    "        self.buffer.appendleft(val)  #appendleft add value in left or start or zero index in deque\n",
    "                                    #appendright add value in end or end or -1 index in deque\n",
    "        \n",
    "    def dequeue(self):\n",
    "        return self.buffer.pop()\n",
    "    \n",
    "    def is_empty(self):\n",
    "        return len(self.buffer) == 0\n",
    "    \n",
    "    def size(self):\n",
    "        return len(self.buffer)"
   ]
  },
  {
   "cell_type": "code",
   "execution_count": 3,
   "id": "f6047555",
   "metadata": {},
   "outputs": [],
   "source": [
    "root = Queue()"
   ]
  },
  {
   "cell_type": "code",
   "execution_count": 4,
   "id": "5203e44b",
   "metadata": {},
   "outputs": [],
   "source": [
    "root.enqueue(2)\n",
    "root.enqueue(3)\n",
    "root.enqueue(6)\n",
    "root.enqueue(7)\n",
    "\n",
    "root.enqueue(9)\n",
    "root.enqueue(13)"
   ]
  },
  {
   "cell_type": "code",
   "execution_count": 5,
   "id": "adc6f474",
   "metadata": {},
   "outputs": [
    {
     "data": {
      "text/plain": [
       "deque([13, 9, 7, 6, 3, 2])"
      ]
     },
     "execution_count": 5,
     "metadata": {},
     "output_type": "execute_result"
    }
   ],
   "source": [
    "root.buffer"
   ]
  },
  {
   "cell_type": "code",
   "execution_count": 6,
   "id": "3ce2a4af",
   "metadata": {},
   "outputs": [
    {
     "data": {
      "text/plain": [
       "2"
      ]
     },
     "execution_count": 6,
     "metadata": {},
     "output_type": "execute_result"
    }
   ],
   "source": [
    "root.dequeue()"
   ]
  },
  {
   "cell_type": "code",
   "execution_count": 7,
   "id": "b21d8f51",
   "metadata": {},
   "outputs": [
    {
     "data": {
      "text/plain": [
       "deque([13, 9, 7, 6, 3])"
      ]
     },
     "execution_count": 7,
     "metadata": {},
     "output_type": "execute_result"
    }
   ],
   "source": [
    "root.buffer"
   ]
  },
  {
   "cell_type": "code",
   "execution_count": 9,
   "id": "40d11772",
   "metadata": {},
   "outputs": [
    {
     "data": {
      "text/plain": [
       "False"
      ]
     },
     "execution_count": 9,
     "metadata": {},
     "output_type": "execute_result"
    }
   ],
   "source": [
    "root.is_empty()"
   ]
  },
  {
   "cell_type": "code",
   "execution_count": 10,
   "id": "7e8c1636",
   "metadata": {},
   "outputs": [
    {
     "data": {
      "text/plain": [
       "5"
      ]
     },
     "execution_count": 10,
     "metadata": {},
     "output_type": "execute_result"
    }
   ],
   "source": [
    "root.size()"
   ]
  },
  {
   "cell_type": "markdown",
   "id": "7714558b",
   "metadata": {},
   "source": [
    "# "
   ]
  },
  {
   "cell_type": "markdown",
   "id": "fda11aa4",
   "metadata": {},
   "source": [
    "# Queue implementation usin Python list()"
   ]
  },
  {
   "cell_type": "code",
   "execution_count": 11,
   "id": "3d78bce9",
   "metadata": {},
   "outputs": [],
   "source": [
    "class QueueList:\n",
    "    def __init__(self):\n",
    "        self.buffer = []\n",
    "        \n",
    "    def enqueue(self, val):\n",
    "        self.buffer.insert(0,val) #FIFO implemented.\n",
    "    \n",
    "    def dequeue(self):\n",
    "        return self.buffer.pop()\n",
    "        \n",
    "    def is_empty(self):\n",
    "        return (self.buffer) == 0\n",
    "    \n",
    "    def size(self):\n",
    "        return len(self.buffer)"
   ]
  },
  {
   "cell_type": "code",
   "execution_count": 12,
   "id": "2814618a",
   "metadata": {},
   "outputs": [],
   "source": [
    "root_ = QueueList()"
   ]
  },
  {
   "cell_type": "code",
   "execution_count": 14,
   "id": "a3a63257",
   "metadata": {},
   "outputs": [],
   "source": [
    "root_.enqueue(10)\n",
    "root_.enqueue(15)\n",
    "root_.enqueue(20)\n",
    "root_.enqueue(25)\n",
    "root_.enqueue(30)"
   ]
  },
  {
   "cell_type": "code",
   "execution_count": 16,
   "id": "0d918fd9",
   "metadata": {},
   "outputs": [
    {
     "data": {
      "text/plain": [
       "[30, 25, 20, 15, 10]"
      ]
     },
     "execution_count": 16,
     "metadata": {},
     "output_type": "execute_result"
    }
   ],
   "source": [
    "root_.buffer"
   ]
  },
  {
   "cell_type": "code",
   "execution_count": 18,
   "id": "436234d1",
   "metadata": {},
   "outputs": [
    {
     "data": {
      "text/plain": [
       "10"
      ]
     },
     "execution_count": 18,
     "metadata": {},
     "output_type": "execute_result"
    }
   ],
   "source": [
    "root_.dequeue()"
   ]
  },
  {
   "cell_type": "code",
   "execution_count": 19,
   "id": "d9510534",
   "metadata": {},
   "outputs": [
    {
     "data": {
      "text/plain": [
       "[30, 25, 20, 15]"
      ]
     },
     "execution_count": 19,
     "metadata": {},
     "output_type": "execute_result"
    }
   ],
   "source": [
    "root_.buffer"
   ]
  },
  {
   "cell_type": "code",
   "execution_count": 20,
   "id": "9b719046",
   "metadata": {},
   "outputs": [
    {
     "data": {
      "text/plain": [
       "False"
      ]
     },
     "execution_count": 20,
     "metadata": {},
     "output_type": "execute_result"
    }
   ],
   "source": [
    "root_.is_empty()"
   ]
  },
  {
   "cell_type": "code",
   "execution_count": 21,
   "id": "8765db1b",
   "metadata": {},
   "outputs": [
    {
     "data": {
      "text/plain": [
       "4"
      ]
     },
     "execution_count": 21,
     "metadata": {},
     "output_type": "execute_result"
    }
   ],
   "source": [
    "root_.size()"
   ]
  }
 ],
 "metadata": {
  "kernelspec": {
   "display_name": "Python 3 (ipykernel)",
   "language": "python",
   "name": "python3"
  },
  "language_info": {
   "codemirror_mode": {
    "name": "ipython",
    "version": 3
   },
   "file_extension": ".py",
   "mimetype": "text/x-python",
   "name": "python",
   "nbconvert_exporter": "python",
   "pygments_lexer": "ipython3",
   "version": "3.8.10"
  }
 },
 "nbformat": 4,
 "nbformat_minor": 5
}
