{
 "cells": [
  {
   "cell_type": "markdown",
   "id": "55f0759e",
   "metadata": {},
   "source": [
    "# Stack implementation using deque and python list"
   ]
  },
  {
   "cell_type": "code",
   "execution_count": 14,
   "id": "7103057d",
   "metadata": {},
   "outputs": [],
   "source": [
    "from collections import deque\n",
    "\n",
    "'''Stack implementation using deque'''\n",
    "class Stack:\n",
    "    def __init__(self):\n",
    "        self.container = deque()\n",
    "        \n",
    "    def push(self,val):\n",
    "        self.container.append(val)\n",
    "        \n",
    "    def pop(self):\n",
    "        return self.container.pop()\n",
    "    \n",
    "    def peek(self): #this func return last element in list but its not remove elements like pop function.\n",
    "        return self.container[-1]\n",
    "    \n",
    "    def is_empty(self):\n",
    "        return self.container == 0\n",
    "    \n",
    "    def size(self):\n",
    "        return len(self.container)\n",
    "    \n",
    "        "
   ]
  },
  {
   "cell_type": "code",
   "execution_count": 15,
   "id": "b99540a4",
   "metadata": {},
   "outputs": [],
   "source": [
    "root = Stack()\n"
   ]
  },
  {
   "cell_type": "code",
   "execution_count": 16,
   "id": "d57db834",
   "metadata": {},
   "outputs": [],
   "source": [
    "root.push(5)\n",
    "root.push(10)\n",
    "root.push(15)\n",
    "root.push(20)\n",
    "root.push(25)"
   ]
  },
  {
   "cell_type": "code",
   "execution_count": 17,
   "id": "d8c793ed",
   "metadata": {},
   "outputs": [
    {
     "data": {
      "text/plain": [
       "deque([5, 10, 15, 20, 25])"
      ]
     },
     "execution_count": 17,
     "metadata": {},
     "output_type": "execute_result"
    }
   ],
   "source": [
    "root.container"
   ]
  },
  {
   "cell_type": "code",
   "execution_count": 18,
   "id": "4f6f8461",
   "metadata": {},
   "outputs": [
    {
     "data": {
      "text/plain": [
       "25"
      ]
     },
     "execution_count": 18,
     "metadata": {},
     "output_type": "execute_result"
    }
   ],
   "source": [
    "root.pop()"
   ]
  },
  {
   "cell_type": "code",
   "execution_count": 19,
   "id": "0fb1018e",
   "metadata": {},
   "outputs": [
    {
     "data": {
      "text/plain": [
       "deque([5, 10, 15, 20])"
      ]
     },
     "execution_count": 19,
     "metadata": {},
     "output_type": "execute_result"
    }
   ],
   "source": [
    "root.container"
   ]
  },
  {
   "cell_type": "code",
   "execution_count": 20,
   "id": "9d889604",
   "metadata": {},
   "outputs": [
    {
     "data": {
      "text/plain": [
       "20"
      ]
     },
     "execution_count": 20,
     "metadata": {},
     "output_type": "execute_result"
    }
   ],
   "source": [
    "root.peek()"
   ]
  },
  {
   "cell_type": "code",
   "execution_count": 21,
   "id": "f9afcae8",
   "metadata": {},
   "outputs": [
    {
     "data": {
      "text/plain": [
       "deque([5, 10, 15, 20])"
      ]
     },
     "execution_count": 21,
     "metadata": {},
     "output_type": "execute_result"
    }
   ],
   "source": [
    "root.container"
   ]
  },
  {
   "cell_type": "code",
   "execution_count": 22,
   "id": "9ffdb9cf",
   "metadata": {},
   "outputs": [
    {
     "data": {
      "text/plain": [
       "False"
      ]
     },
     "execution_count": 22,
     "metadata": {},
     "output_type": "execute_result"
    }
   ],
   "source": [
    "root.is_empty()"
   ]
  },
  {
   "cell_type": "code",
   "execution_count": 23,
   "id": "3646db3d",
   "metadata": {},
   "outputs": [
    {
     "data": {
      "text/plain": [
       "4"
      ]
     },
     "execution_count": 23,
     "metadata": {},
     "output_type": "execute_result"
    }
   ],
   "source": [
    "root.size()"
   ]
  },
  {
   "cell_type": "markdown",
   "id": "ae4c238b",
   "metadata": {},
   "source": [
    "# "
   ]
  },
  {
   "cell_type": "code",
   "execution_count": 24,
   "id": "a527182d",
   "metadata": {},
   "outputs": [],
   "source": [
    "'''Stack implemetation using list'''\n",
    "class StackList:\n",
    "    def __init__(self):\n",
    "        self.container = []\n",
    "        \n",
    "    def push(self,val):\n",
    "        self.container.append(val)\n",
    "    \n",
    "    def pop(self):\n",
    "        return self.container.pop()\n",
    "    \n",
    "    def peek(self):\n",
    "        return self.container[-1]\n",
    "    \n",
    "    def is_empty(self):\n",
    "        return self.container == 0\n",
    "    \n",
    "    def size(self):\n",
    "        return len(self.container)"
   ]
  },
  {
   "cell_type": "code",
   "execution_count": 25,
   "id": "8360b131",
   "metadata": {},
   "outputs": [],
   "source": [
    "root_ = StackList()\n"
   ]
  },
  {
   "cell_type": "code",
   "execution_count": 26,
   "id": "9a194d66",
   "metadata": {},
   "outputs": [],
   "source": [
    "root_.push(1)\n",
    "root_.push(2)\n",
    "root_.push(3)\n",
    "root_.push(4)\n",
    "root_.push(5)\n",
    "root_.push(6)"
   ]
  },
  {
   "cell_type": "code",
   "execution_count": 27,
   "id": "4e41e58a",
   "metadata": {},
   "outputs": [
    {
     "data": {
      "text/plain": [
       "[1, 2, 3, 4, 5, 6]"
      ]
     },
     "execution_count": 27,
     "metadata": {},
     "output_type": "execute_result"
    }
   ],
   "source": [
    "root_.container"
   ]
  },
  {
   "cell_type": "code",
   "execution_count": 29,
   "id": "7c348d37",
   "metadata": {},
   "outputs": [
    {
     "data": {
      "text/plain": [
       "6"
      ]
     },
     "execution_count": 29,
     "metadata": {},
     "output_type": "execute_result"
    }
   ],
   "source": [
    "root_.pop()"
   ]
  },
  {
   "cell_type": "code",
   "execution_count": 31,
   "id": "06016b0e",
   "metadata": {},
   "outputs": [
    {
     "data": {
      "text/plain": [
       "[1, 2, 3, 4, 5]"
      ]
     },
     "execution_count": 31,
     "metadata": {},
     "output_type": "execute_result"
    }
   ],
   "source": [
    "root_.container"
   ]
  },
  {
   "cell_type": "code",
   "execution_count": 32,
   "id": "c6b87868",
   "metadata": {},
   "outputs": [
    {
     "data": {
      "text/plain": [
       "5"
      ]
     },
     "execution_count": 32,
     "metadata": {},
     "output_type": "execute_result"
    }
   ],
   "source": [
    "root_.peek()"
   ]
  },
  {
   "cell_type": "code",
   "execution_count": 34,
   "id": "7e2659ac",
   "metadata": {},
   "outputs": [
    {
     "data": {
      "text/plain": [
       "[1, 2, 3, 4, 5]"
      ]
     },
     "execution_count": 34,
     "metadata": {},
     "output_type": "execute_result"
    }
   ],
   "source": [
    "root_.container"
   ]
  },
  {
   "cell_type": "code",
   "execution_count": 35,
   "id": "9301c17e",
   "metadata": {},
   "outputs": [
    {
     "data": {
      "text/plain": [
       "False"
      ]
     },
     "execution_count": 35,
     "metadata": {},
     "output_type": "execute_result"
    }
   ],
   "source": [
    "root_.is_empty()"
   ]
  },
  {
   "cell_type": "code",
   "execution_count": 36,
   "id": "ce3e6b1c",
   "metadata": {},
   "outputs": [
    {
     "data": {
      "text/plain": [
       "5"
      ]
     },
     "execution_count": 36,
     "metadata": {},
     "output_type": "execute_result"
    }
   ],
   "source": [
    "root_.size()"
   ]
  }
 ],
 "metadata": {
  "kernelspec": {
   "display_name": "Python 3 (ipykernel)",
   "language": "python",
   "name": "python3"
  },
  "language_info": {
   "codemirror_mode": {
    "name": "ipython",
    "version": 3
   },
   "file_extension": ".py",
   "mimetype": "text/x-python",
   "name": "python",
   "nbconvert_exporter": "python",
   "pygments_lexer": "ipython3",
   "version": "3.8.10"
  }
 },
 "nbformat": 4,
 "nbformat_minor": 5
}
