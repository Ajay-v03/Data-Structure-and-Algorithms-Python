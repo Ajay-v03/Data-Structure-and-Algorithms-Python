{
 "cells": [
  {
   "cell_type": "code",
   "execution_count": 30,
   "id": "7ada49f4",
   "metadata": {},
   "outputs": [],
   "source": [
    "'''Cllision detection techniques'''\n",
    "# chaining(tuple(key,val)) store in same memory location of two items\n",
    "# Linear probing(tuple(key,val)) store in empty bucket in memory while 1st element is already present in memory where 2nd element is target. \n",
    "\n",
    "class HashTable:\n",
    "    def __init__(self):\n",
    "        self.Max = 10\n",
    "        self.arr = [[] for i in range(self.Max)]\n",
    "        \n",
    "    def get_hash(self, key): #taking string and return a number that map in memory\n",
    "        sum = 0\n",
    "        for letter in key:\n",
    "            sum += ord(letter)\n",
    "\n",
    "        return sum % self.Max\n",
    "        \n",
    "    def __getitem__(self,key):\n",
    "        hash_ = self.get_hash(key)\n",
    "        for kv in self.arr[hash_]:\n",
    "            if kv[0] == key:\n",
    "                return kv[1]\n",
    "    \n",
    "    def __setitem__(self, key, val):\n",
    "        hash_ = self.get_hash(key)\n",
    "        \n",
    "        found = False\n",
    "        for idx, element in enumerate(self.arr[hash_]):\n",
    "            if len(element) == 2 and element[0] == key:\n",
    "                self.arr[hash_][idx] = (key,val)\n",
    "                found = True\n",
    "            \n",
    "        if not found:\n",
    "            self.arr[hash_].append((key,val))\n",
    "            \n",
    "    def __delitem__(self,key):\n",
    "        hash_ = self.get_hash(key)\n",
    "        for idx, element in enumerate(self.arr[hash_]):\n",
    "            if element[0] == key:\n",
    "                del self.arr[hash_][idx]        \n",
    "        "
   ]
  },
  {
   "cell_type": "code",
   "execution_count": 31,
   "id": "cc91b714",
   "metadata": {},
   "outputs": [
    {
     "data": {
      "text/plain": [
       "9"
      ]
     },
     "execution_count": 31,
     "metadata": {},
     "output_type": "execute_result"
    }
   ],
   "source": [
    "# if __name__ == '__main__':\n",
    "hash_ = HashTable()\n",
    "hash_.get_hash('march 6')"
   ]
  },
  {
   "cell_type": "code",
   "execution_count": 32,
   "id": "f6cdcee3",
   "metadata": {},
   "outputs": [
    {
     "data": {
      "text/plain": [
       "9"
      ]
     },
     "execution_count": 32,
     "metadata": {},
     "output_type": "execute_result"
    }
   ],
   "source": [
    "hash_.get_hash('march 17')"
   ]
  },
  {
   "cell_type": "code",
   "execution_count": 33,
   "id": "d4e7e0f1",
   "metadata": {},
   "outputs": [],
   "source": [
    "hash_['march 6'] = 34\n",
    "hash_['march '] = 88\n",
    "hash_['march 7'] = 23\n",
    "hash_['march 8'] = 78\n",
    "hash_['march 9'] = 99\n",
    "hash_['march 17'] = 33"
   ]
  },
  {
   "cell_type": "code",
   "execution_count": 34,
   "id": "5206dad5",
   "metadata": {},
   "outputs": [
    {
     "data": {
      "text/plain": [
       "33"
      ]
     },
     "execution_count": 34,
     "metadata": {},
     "output_type": "execute_result"
    }
   ],
   "source": [
    "hash_['march 17']"
   ]
  },
  {
   "cell_type": "code",
   "execution_count": 35,
   "id": "2a2f6a58",
   "metadata": {},
   "outputs": [
    {
     "data": {
      "text/plain": [
       "[[('march 7', 23)],\n",
       " [('march 8', 78)],\n",
       " [('march 9', 99)],\n",
       " [],\n",
       " [],\n",
       " [('march ', 88)],\n",
       " [],\n",
       " [],\n",
       " [],\n",
       " [('march 6', 34), ('march 17', 33)]]"
      ]
     },
     "execution_count": 35,
     "metadata": {},
     "output_type": "execute_result"
    }
   ],
   "source": [
    "hash_.arr"
   ]
  },
  {
   "cell_type": "code",
   "execution_count": 36,
   "id": "6319b605",
   "metadata": {},
   "outputs": [],
   "source": [
    "del hash_['march 17']"
   ]
  },
  {
   "cell_type": "code",
   "execution_count": 38,
   "id": "fd24d1e5",
   "metadata": {},
   "outputs": [
    {
     "data": {
      "text/plain": [
       "[[('march 7', 23)],\n",
       " [('march 8', 78)],\n",
       " [('march 9', 99)],\n",
       " [],\n",
       " [],\n",
       " [('march ', 88)],\n",
       " [],\n",
       " [],\n",
       " [],\n",
       " [('march 6', 34)]]"
      ]
     },
     "execution_count": 38,
     "metadata": {},
     "output_type": "execute_result"
    }
   ],
   "source": [
    "hash_.arr"
   ]
  },
  {
   "cell_type": "code",
   "execution_count": null,
   "id": "a315813c",
   "metadata": {},
   "outputs": [],
   "source": []
  }
 ],
 "metadata": {
  "kernelspec": {
   "display_name": "Python 3 (ipykernel)",
   "language": "python",
   "name": "python3"
  },
  "language_info": {
   "codemirror_mode": {
    "name": "ipython",
    "version": 3
   },
   "file_extension": ".py",
   "mimetype": "text/x-python",
   "name": "python",
   "nbconvert_exporter": "python",
   "pygments_lexer": "ipython3",
   "version": "3.8.10"
  }
 },
 "nbformat": 4,
 "nbformat_minor": 5
}
